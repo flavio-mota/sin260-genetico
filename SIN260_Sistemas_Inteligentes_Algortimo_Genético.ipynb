{
  "cells": [
    {
      "cell_type": "markdown",
      "metadata": {
        "id": "view-in-github",
        "colab_type": "text"
      },
      "source": [
        "<a href=\"https://colab.research.google.com/github/flavio-mota/sin260-genetico/blob/main/SIN260_Sistemas_Inteligentes_Algortimo_Gen%C3%A9tico.ipynb\" target=\"_parent\"><img src=\"https://colab.research.google.com/assets/colab-badge.svg\" alt=\"Open In Colab\"/></a>"
      ]
    },
    {
      "cell_type": "markdown",
      "source": [
        "# Implementação de um Algoritmo Genético\n",
        "\n",
        "Isabela Neves Drummond\n",
        "<br>Flávio Belizário da Silva Mota\n",
        "\n",
        "<hr>\n",
        "\n",
        "<br> O objetivo dessa implementação é um algoritmo genético para encontrar o valor de x para o qual a função f(x) = x² - 3x + 4 assume o valor máximo.\n",
        "\n",
        "- Assumir que x [-10, +10];\n",
        "\n",
        "- Codificar x como vetor binário;\n",
        "\n",
        "- Criar uma população inicial com 30 indivíduos;\n",
        "\n",
        "- Aplicar Mutação com taxa de 1%;\n",
        "\n",
        "- Aplicar Crossover com taxa de 70%;\n",
        "\n",
        "- Usar seleção por torneio;\n",
        "\n",
        "- Usar 50 gerações.\n"
      ],
      "metadata": {
        "id": "4esREnVDK9yP"
      },
      "id": "4esREnVDK9yP"
    },
    {
      "cell_type": "markdown",
      "source": [
        "Bibliotecas para a implementação:"
      ],
      "metadata": {
        "id": "98G8tgaoLr40"
      },
      "id": "98G8tgaoLr40"
    },
    {
      "cell_type": "code",
      "execution_count": null,
      "id": "5372bc41",
      "metadata": {
        "id": "5372bc41"
      },
      "outputs": [],
      "source": [
        "from random import SystemRandom\n",
        "import numpy as np\n",
        "from matplotlib import pyplot as plt\n",
        "from sympy import *"
      ]
    },
    {
      "cell_type": "markdown",
      "source": [
        "Ajustando o gerador de números aleatórios:"
      ],
      "metadata": {
        "id": "11S9ELGqLwzF"
      },
      "id": "11S9ELGqLwzF"
    },
    {
      "cell_type": "code",
      "execution_count": null,
      "id": "7ca5f1b0",
      "metadata": {
        "id": "7ca5f1b0"
      },
      "outputs": [],
      "source": [
        "random = SystemRandom()"
      ]
    },
    {
      "cell_type": "markdown",
      "source": [
        "Definindo uma função para plotagem do gráfico da função de segundo grau:"
      ],
      "metadata": {
        "id": "Lx2U0sb0L2Vd"
      },
      "id": "Lx2U0sb0L2Vd"
    },
    {
      "cell_type": "code",
      "execution_count": null,
      "id": "d0b9f9fd",
      "metadata": {
        "id": "d0b9f9fd"
      },
      "outputs": [],
      "source": [
        "def plot_fx(f, xlim, ax):\n",
        "    f_ = sympify(f)\n",
        "    print('f(x) = {}'.format(f_))\n",
        "    f = lambdify('x', f_, 'numpy')\n",
        "    x = np.linspace(xlim[0], xlim[1], 100)\n",
        "\n",
        "    ax.plot(x, f(x), label=f_)"
      ]
    },
    {
      "cell_type": "markdown",
      "source": [
        "Classe do algortimo genético com seus atributos e métodos:"
      ],
      "metadata": {
        "id": "grvRr540L7wO"
      },
      "id": "grvRr540L7wO"
    },
    {
      "cell_type": "code",
      "execution_count": null,
      "id": "24fbf431",
      "metadata": {
        "id": "24fbf431"
      },
      "outputs": [],
      "source": [
        "class AlgoritmoGenetico():\n",
        "    \"\"\"\n",
        "        Algoritmo genético para encontrar o x para o qual a função x^2 - 3x + 4 assume o valor máximo\n",
        "    \"\"\"\n",
        "    def __init__(self, x_min, x_max, tam_populacao, taxa_mutacao, taxa_crossover, num_geracoes):\n",
        "        \"\"\"\n",
        "            Inicializa todos os atributos da instância\n",
        "        \"\"\"\n",
        "        self.x_min = x_min\n",
        "        self.x_max = x_max\n",
        "        self.tam_populacao = tam_populacao\n",
        "        self.taxa_mutacao = taxa_mutacao\n",
        "        self.taxa_crossover = taxa_crossover\n",
        "        self.num_geracoes = num_geracoes\n",
        "        # calcula o número de bits do x_min e x_máx no formato binário com sinal\n",
        "        qtd_bits_x_min = len(bin(x_min).replace('0b', '' if x_min < 0 else '+'))\n",
        "        qtd_bits_x_max = len(bin(x_max).replace('0b', '' if x_max < 0 else '+'))\n",
        "        # o maior número de bits representa o número de bits a ser utilizado para gerar individuos\n",
        "        self.num_bits = qtd_bits_x_max if qtd_bits_x_max >= qtd_bits_x_min else qtd_bits_x_min\n",
        "        # gera os individuos da população\n",
        "        self._gerar_populacao()\n",
        "\n",
        "    def _gerar_populacao(self):\n",
        "        \"\"\"\n",
        "            Gera uma população de um determinado tamanho com individuos que possuem um número\n",
        "            expecífico de bits\n",
        "        \"\"\"\n",
        "        # inicializa uma população de \"tam_população\" inviduos vazios\n",
        "        self.populacao = [[] for _ in range(self.tam_populacao)]\n",
        "        # preenche a população\n",
        "        for individuo in self.populacao:\n",
        "            # para cada individuo da população sorteia números entre \"x_min\" e \"x_max\"\n",
        "            num = random.randint(self.x_min, self.x_max)\n",
        "            # converte o número sorteado para formato binário com sinal\n",
        "            num_bin = bin(num).replace('0b', '' if num < 0 else '+').zfill(self.num_bits)\n",
        "            # transforma o número binário resultante em um vetor\n",
        "            for bit in num_bin:\n",
        "                individuo.append(bit)\n",
        "\n",
        "    def _funcao_objetivo(self, num_bin):\n",
        "        \"\"\"\n",
        "            Calcula a função objetivo utilizada para avlaiar as soluções produzidas\n",
        "        \"\"\"\n",
        "        # converte o número binário para o formato inteiro\n",
        "        num = int(''.join(num_bin), 2)\n",
        "        # calcula e retorna o resultado da função objetivo\n",
        "        return num**2 - 3*num + 4\n",
        "\n",
        "    def avaliar(self):\n",
        "        \"\"\"\n",
        "            Avalia as souluções produzidas, associando uma nota/avalição a cada elemento da população\n",
        "        \"\"\"\n",
        "        self.avaliacao = []\n",
        "        for individuo in self.populacao:\n",
        "            self.avaliacao.append(self._funcao_objetivo(individuo))\n",
        "\n",
        "    def selecionar(self):\n",
        "        \"\"\"\n",
        "            Realiza a seleção do individuo mais apto por torneio, considerando N = 2\n",
        "        \"\"\"\n",
        "        # agrupa os individuos com suas avaliações para gerar os participantes do torneio\n",
        "        participantes_torneio = list(zip(self.populacao, self.avaliacao))\n",
        "        # escolhe dois individuos aleatoriamente\n",
        "        individuo_1 = participantes_torneio[random.randint(0, self.tam_populacao - 1)]\n",
        "        individuo_2 = participantes_torneio[random.randint(0, self.tam_populacao - 1)]\n",
        "        # retorna individuo com a maior avaliação, ou seja, o vencedor do torneio\n",
        "        return individuo_1[0] if individuo_1[1] >= individuo_2[1] else individuo_2[0]\n",
        "\n",
        "    def _ajustar(self, individuo):\n",
        "        \"\"\"\n",
        "            Caso o individuo esteja fora dos limites de x, ele é ajustado de acordo com o limite mais próximo\n",
        "        \"\"\"\n",
        "        if int(''.join(individuo), 2) < self.x_min:\n",
        "            # se o individuo é menor que o limite mínimo, ele é substituido pelo próprio limite mínimo\n",
        "            ajuste = bin(self.x_min).replace('0b', '' if self.x_min < 0 else '+').zfill(self.num_bits)\n",
        "            for indice, bit in enumerate(ajuste):\n",
        "                individuo[indice] = bit\n",
        "        elif int(''.join(individuo), 2) > self.x_max:\n",
        "            # se o individuo é maior que o limite máximo, ele é substituido pelo próprio limite máximo\n",
        "            ajuste = bin(self.x_max).replace('0b', '' if self.x_max < 0 else '+').zfill(self.num_bits)\n",
        "            for indice, bit in enumerate(ajuste):\n",
        "                individuo[indice] = bit\n",
        "\n",
        "    def crossover(self, pai, mae):\n",
        "        \"\"\"\n",
        "            Aplica o crossover de acordo com uma dada probabilidade (taxa de crossover)\n",
        "        \"\"\"\n",
        "        if random.randint(1, 100) <= self.taxa_crossover:\n",
        "            # caso o crossover seja aplicado os pais trocam suas caldas e com isso geram dois filhos\n",
        "            ponto_de_corte = random.randint(1, self.num_bits - 1)\n",
        "            filho_1 = pai[:ponto_de_corte] + mae[ponto_de_corte:]\n",
        "            filho_2 = mae[:ponto_de_corte] + pai[ponto_de_corte:]\n",
        "            # se algum dos filhos estiver fora dos limites de x, ele é ajustado de acordo com o limite\n",
        "            # mais próximo\n",
        "            self._ajustar(filho_1)\n",
        "            self._ajustar(filho_2)    \n",
        "        else:\n",
        "            # caso contrário os filhos são cópias exatas dos pais\n",
        "            filho_1 = pai[:]\n",
        "            filho_2 = mae[:]\n",
        "\n",
        "        # retorna os filhos obtidos pelo crossover\n",
        "        return filho_1, filho_2\n",
        "\n",
        "    def mutar(self, individuo):\n",
        "        \"\"\"\n",
        "            Realiza a mutação dos bits de um indiviuo conforme uma dada probabilidade\n",
        "            (taxa de mutação)\n",
        "        \"\"\"\n",
        "        # cria a tabela com as regras de mutação\n",
        "        tabela_mutacao = str.maketrans('+-01', '-+10')\n",
        "        # caso a taxa de mutação seja atingida, ela é realizada em um bit aleatório\n",
        "        if random.randint(1, 100) <= self.taxa_mutacao:\n",
        "            bit = random.randint(0, self.num_bits - 1)\n",
        "            individuo[bit] = individuo[bit].translate(tabela_mutacao)\n",
        "\n",
        "        # se o individuo estiver fora dos limites de x, ele é ajustado de acordo com o\n",
        "        # limite mais próximo\n",
        "        self._ajustar(individuo)\n",
        "\n",
        "    def econtrar_filho_mais_apto(self):\n",
        "        \"\"\"\n",
        "            Busca o individuo com a melhor avaliação dentro da população\n",
        "        \"\"\"\n",
        "        # agrupa os individuos com suas avaliações para gerar os candidatos\n",
        "        candidatos = list(zip(self.populacao, self.avaliacao))\n",
        "        # retorna o candidato com a melhor avaliação, ou seja, o mais apto da população\n",
        "        return max(candidatos)"
      ]
    },
    {
      "cell_type": "markdown",
      "source": [
        "Teste do algoritmo e das gerações"
      ],
      "metadata": {
        "id": "dmSCTlF9MDok"
      },
      "id": "dmSCTlF9MDok"
    },
    {
      "cell_type": "code",
      "execution_count": null,
      "id": "8822e45b",
      "metadata": {
        "id": "8822e45b",
        "outputId": "a73b94d0-e07c-4a28-b5e2-3d388d66e0ab",
        "colab": {
          "base_uri": "https://localhost:8080/",
          "height": 1000
        }
      },
      "outputs": [
        {
          "output_type": "stream",
          "name": "stdout",
          "text": [
            "Resultado 0: x = -10, (individuo, valor máximo) (['-', '1', '0', '1', '0'], 134)\n",
            "Resultado 1: x = -10, (individuo, valor máximo) (['-', '1', '0', '1', '0'], 134)\n",
            "Resultado 2: x = -10, (individuo, valor máximo) (['-', '1', '0', '1', '0'], 134)\n",
            "Resultado 3: x = -10, (individuo, valor máximo) (['-', '1', '0', '1', '0'], 134)\n",
            "Resultado 4: x = -10, (individuo, valor máximo) (['-', '1', '0', '1', '0'], 134)\n",
            "Resultado 5: x = -10, (individuo, valor máximo) (['-', '1', '0', '1', '0'], 134)\n",
            "Resultado 6: x = -10, (individuo, valor máximo) (['-', '1', '0', '1', '0'], 134)\n",
            "Resultado 7: x = -10, (individuo, valor máximo) (['-', '1', '0', '1', '0'], 134)\n",
            "Resultado 8: x = -10, (individuo, valor máximo) (['-', '1', '0', '1', '0'], 134)\n",
            "Resultado 9: x = -10, (individuo, valor máximo) (['-', '1', '0', '1', '0'], 134)\n",
            "Resultado 10: x = -10, (individuo, valor máximo) (['-', '1', '0', '1', '0'], 134)\n",
            "Resultado 11: x = -10, (individuo, valor máximo) (['-', '1', '0', '1', '0'], 134)\n",
            "Resultado 12: x = -10, (individuo, valor máximo) (['-', '1', '0', '1', '0'], 134)\n",
            "Resultado 13: x = -10, (individuo, valor máximo) (['-', '1', '0', '1', '0'], 134)\n",
            "Resultado 14: x = -10, (individuo, valor máximo) (['-', '1', '0', '1', '0'], 134)\n",
            "Resultado 15: x = -10, (individuo, valor máximo) (['-', '1', '0', '1', '0'], 134)\n",
            "Resultado 16: x = -10, (individuo, valor máximo) (['-', '1', '0', '1', '0'], 134)\n",
            "Resultado 17: x = -10, (individuo, valor máximo) (['-', '1', '0', '1', '0'], 134)\n",
            "Resultado 18: x = -10, (individuo, valor máximo) (['-', '1', '0', '1', '0'], 134)\n",
            "Resultado 19: x = -10, (individuo, valor máximo) (['-', '1', '0', '1', '0'], 134)\n",
            "Resultado 20: x = -10, (individuo, valor máximo) (['-', '1', '0', '1', '0'], 134)\n",
            "Resultado 21: x = -10, (individuo, valor máximo) (['-', '1', '0', '1', '0'], 134)\n",
            "Resultado 22: x = -10, (individuo, valor máximo) (['-', '1', '0', '1', '0'], 134)\n",
            "Resultado 23: x = -10, (individuo, valor máximo) (['-', '1', '0', '1', '0'], 134)\n",
            "Resultado 24: x = -10, (individuo, valor máximo) (['-', '1', '0', '1', '0'], 134)\n",
            "Resultado 25: x = -10, (individuo, valor máximo) (['-', '1', '0', '1', '0'], 134)\n",
            "Resultado 26: x = -10, (individuo, valor máximo) (['-', '1', '0', '1', '0'], 134)\n",
            "Resultado 27: x = -10, (individuo, valor máximo) (['-', '1', '0', '1', '0'], 134)\n",
            "Resultado 28: x = -10, (individuo, valor máximo) (['-', '1', '0', '1', '0'], 134)\n",
            "Resultado 29: x = -10, (individuo, valor máximo) (['-', '1', '0', '1', '0'], 134)\n",
            "Resultado 30: x = -10, (individuo, valor máximo) (['-', '1', '0', '1', '0'], 134)\n",
            "Resultado 31: x = -10, (individuo, valor máximo) (['-', '1', '0', '1', '0'], 134)\n",
            "Resultado 32: x = -10, (individuo, valor máximo) (['-', '1', '0', '1', '0'], 134)\n",
            "Resultado 33: x = -10, (individuo, valor máximo) (['-', '1', '0', '1', '0'], 134)\n",
            "Resultado 34: x = -10, (individuo, valor máximo) (['-', '1', '0', '1', '0'], 134)\n",
            "Resultado 35: x = -10, (individuo, valor máximo) (['-', '1', '0', '1', '0'], 134)\n",
            "Resultado 36: x = -10, (individuo, valor máximo) (['-', '1', '0', '1', '0'], 134)\n",
            "Resultado 37: x = -10, (individuo, valor máximo) (['-', '1', '0', '1', '0'], 134)\n",
            "Resultado 38: x = -10, (individuo, valor máximo) (['-', '1', '0', '1', '0'], 134)\n",
            "Resultado 39: x = -10, (individuo, valor máximo) (['-', '1', '0', '1', '0'], 134)\n",
            "Resultado 40: x = -10, (individuo, valor máximo) (['-', '1', '0', '1', '0'], 134)\n",
            "Resultado 41: x = -10, (individuo, valor máximo) (['-', '1', '0', '1', '0'], 134)\n",
            "Resultado 42: x = -10, (individuo, valor máximo) (['-', '1', '0', '1', '0'], 134)\n",
            "Resultado 43: x = -10, (individuo, valor máximo) (['-', '1', '0', '1', '0'], 134)\n",
            "Resultado 44: x = -10, (individuo, valor máximo) (['-', '1', '0', '1', '0'], 134)\n",
            "Resultado 45: x = -10, (individuo, valor máximo) (['-', '1', '0', '1', '0'], 134)\n",
            "Resultado 46: x = -10, (individuo, valor máximo) (['-', '1', '0', '1', '0'], 134)\n",
            "Resultado 47: x = -10, (individuo, valor máximo) (['-', '1', '0', '1', '0'], 134)\n",
            "Resultado 48: x = -10, (individuo, valor máximo) (['-', '1', '0', '1', '0'], 134)\n",
            "Resultado 49: x = -10, (individuo, valor máximo) (['-', '1', '0', '1', '0'], 134)\n",
            "Resultado 50: x = -10, (individuo, valor máximo) (['-', '1', '0', '1', '0'], 134)\n",
            "f(x) = x**2 - 3*x + 4\n"
          ]
        },
        {
          "output_type": "execute_result",
          "data": {
            "text/plain": [
              "<matplotlib.legend.Legend at 0x7f47ee0d6110>"
            ]
          },
          "metadata": {},
          "execution_count": 6
        },
        {
          "output_type": "display_data",
          "data": {
            "text/plain": [
              "<Figure size 864x432 with 1 Axes>"
            ],
            "image/png": "[encoded data removed]"
          },
          "metadata": {
            "needs_background": "light"
          }
        }
      ],
      "source": [
        "# cria uma instância do algoritmo genético com as configurações do enunciado\n",
        "algoritmo_genetico = AlgoritmoGenetico(-10, 10, 30, 1, 70, 50)\n",
        "# realiza a avaliação da população inicial\n",
        "algoritmo_genetico.avaliar()\n",
        "# executa o algoritmo por \"num_gerações\"\n",
        "for i in range(algoritmo_genetico.num_geracoes):\n",
        "    # imprime o resultado a cada geração, começando da população original\n",
        "    mais_apto = algoritmo_genetico.econtrar_filho_mais_apto()\n",
        "    print('Resultado {}: x = {}, (individuo, valor máximo) {}'.format(i, int(''.join(mais_apto[0]), 2), mais_apto))\n",
        "    # cria uma nova população e a preenche enquanto não estiver completa\n",
        "    nova_populacao = []\n",
        "    while len(nova_populacao) < algoritmo_genetico.tam_populacao:\n",
        "        # seleciona os pais\n",
        "        pai = algoritmo_genetico.selecionar()\n",
        "        mae = algoritmo_genetico.selecionar()\n",
        "        # realiza o crossover dos pais para gerar os filhos\n",
        "        filho_1, filho_2 = algoritmo_genetico.crossover(pai, mae)\n",
        "        # realiza a mutação dos filhos e os adiciona à nova população\n",
        "        algoritmo_genetico.mutar(filho_1)\n",
        "        algoritmo_genetico.mutar(filho_2)\n",
        "        nova_populacao.append(filho_1)\n",
        "        nova_populacao.append(filho_2)\n",
        "    # substitui a população antiga pela nova e realiza sua avaliação\n",
        "    algoritmo_genetico.populacao = nova_populacao\n",
        "    algoritmo_genetico.avaliar()\n",
        "\n",
        "# procura o filho mais apto dentro da população e exibe o resultado do algoritmo genético\n",
        "mais_apto = algoritmo_genetico.econtrar_filho_mais_apto()\n",
        "print('Resultado {}: x = {}, (individuo, valor máximo) {}'.format(i+1, int(''.join(mais_apto[0]), 2), mais_apto))\n",
        "\n",
        "f = 'x^2 - 3*x + 4'\n",
        "xlim = (algoritmo_genetico.x_min, algoritmo_genetico.x_max)\n",
        "ylim = (0, mais_apto[1])\n",
        "figsize = (12, 6)\n",
        "# figure\n",
        "fig, ax = plt.subplots(1, 1, figsize=figsize)\n",
        "ax.set_ylim(ylim[0], ylim[1])\n",
        "\n",
        "# plots\n",
        "plot_fx(f, xlim=xlim, ax=ax)\n",
        "ax.legend()"
      ]
    },
    {
      "cell_type": "markdown",
      "source": [
        "Fontes:\n",
        "\n",
        "[Implementação - Thiago P. Nobre](https://github.com/thiagopnobre/algoritmo_genetico)\n",
        "<br>Algoritmos Genéticos - Ricardo Arantes Alves. Edicões Inteligentes, São Paulo, 2005. "
      ],
      "metadata": {
        "id": "8t5XPOrntHmH"
      },
      "id": "8t5XPOrntHmH"
    }
  ],
  "metadata": {
    "kernelspec": {
      "display_name": "Python 3",
      "language": "python",
      "name": "python3"
    },
    "language_info": {
      "codemirror_mode": {
        "name": "ipython",
        "version": 3
      },
      "file_extension": ".py",
      "mimetype": "text/x-python",
      "name": "python",
      "nbconvert_exporter": "python",
      "pygments_lexer": "ipython3",
      "version": "3.8.8"
    },
    "colab": {
      "name": "SIN260 Sistemas Inteligentes - Algortimo Genético.ipynb",
      "provenance": [],
      "include_colab_link": true
    }
  },
  "nbformat": 4,
  "nbformat_minor": 5
}